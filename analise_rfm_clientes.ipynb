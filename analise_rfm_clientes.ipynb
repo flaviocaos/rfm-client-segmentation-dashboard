{
 "cells": [
  {
   "cell_type": "code",
   "execution_count": null,
   "id": "886966d6",
   "metadata": {},
   "outputs": [],
   "source": [
    "import pandas as pd\n",
    "import matplotlib.pyplot as plt\n",
    "import seaborn as sns\n",
    "from datetime import datetime\n",
    "from sklearn.preprocessing import StandardScaler\n",
    "from sklearn.cluster import KMeans\n",
    "\n",
    "# Configuração dos gráficos\n",
    "sns.set(style=\"whitegrid\")\n"
   ]
  },
  {
   "cell_type": "code",
   "execution_count": null,
   "id": "d881742e",
   "metadata": {},
   "outputs": [],
   "source": [
    "# Carregar os dados (modifique o caminho conforme necessário)\n",
    "df = pd.read_csv('base_exemplo_compras.csv', parse_dates=['purchase_date'])\n",
    "df.head()\n"
   ]
  },
  {
   "cell_type": "code",
   "execution_count": null,
   "id": "9b8d111a",
   "metadata": {},
   "outputs": [],
   "source": [
    "# Calcular a data de referência\n",
    "reference_date = df['purchase_date'].max() + pd.Timedelta(days=1)\n",
    "\n",
    "# Calcular RFM\n",
    "rfm = df.groupby('customer_id').agg({\n",
    "    'purchase_date': lambda x: (reference_date - x.max()).days,\n",
    "    'customer_id': 'count',\n",
    "    'purchase_value': 'sum'\n",
    "}).rename(columns={\n",
    "    'purchase_date': 'Recency',\n",
    "    'customer_id': 'Frequency',\n",
    "    'purchase_value': 'Monetary'\n",
    "}).reset_index()\n",
    "\n",
    "rfm.head()\n"
   ]
  },
  {
   "cell_type": "code",
   "execution_count": null,
   "id": "5593f620",
   "metadata": {},
   "outputs": [],
   "source": [
    "# Padronizar os dados\n",
    "scaler = StandardScaler()\n",
    "rfm_scaled = scaler.fit_transform(rfm[['Recency', 'Frequency', 'Monetary']])\n"
   ]
  },
  {
   "cell_type": "code",
   "execution_count": null,
   "id": "139ef019",
   "metadata": {},
   "outputs": [],
   "source": [
    "# Clusterização com KMeans\n",
    "kmeans = KMeans(n_clusters=4, random_state=42, n_init='auto')\n",
    "rfm['Cluster'] = kmeans.fit_predict(rfm_scaled)\n",
    "\n",
    "rfm.head()\n"
   ]
  },
  {
   "cell_type": "code",
   "execution_count": null,
   "id": "77face03",
   "metadata": {},
   "outputs": [],
   "source": [
    "# Visualização dos clusters\n",
    "sns.pairplot(rfm, hue='Cluster', palette='tab10')\n",
    "plt.suptitle(\"Segmentação de Clientes por RFM\", fontsize=16)\n",
    "plt.show()\n"
   ]
  },
  {
   "cell_type": "code",
   "execution_count": null,
   "id": "428a7aca",
   "metadata": {},
   "outputs": [],
   "source": [
    "# Estatísticas por cluster\n",
    "rfm.groupby('Cluster')[['Recency', 'Frequency', 'Monetary']].mean().round(2)\n"
   ]
  }
 ],
 "metadata": {
  "kernelspec": {
   "display_name": "Python 3",
   "name": "python3"
  }
 },
 "nbformat": 4,
 "nbformat_minor": 5
}